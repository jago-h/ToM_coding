{
 "cells": [
  {
   "cell_type": "markdown",
   "id": "e0761526-dd05-4033-9634-dbbea185ab0c",
   "metadata": {},
   "source": [
    "**To do:**\n",
    "- Expand dataset\n",
    "- Expand to multilabel prediction"
   ]
  },
  {
   "cell_type": "markdown",
   "id": "8b39bbce-4493-4f83-a0f9-91b7a812bef7",
   "metadata": {
    "jp-MarkdownHeadingCollapsed": true
   },
   "source": [
    "## Data"
   ]
  },
  {
   "cell_type": "code",
   "execution_count": 1,
   "id": "9a86a660-dd9e-47da-85a5-a896fab03054",
   "metadata": {},
   "outputs": [],
   "source": [
    "import numpy as np\n",
    "import pandas as pd\n",
    "from matplotlib import pyplot as plt"
   ]
  },
  {
   "cell_type": "code",
   "execution_count": 96,
   "id": "4568f42b-ab9b-40aa-9a27-75ec0a2c591d",
   "metadata": {},
   "outputs": [],
   "source": [
    "# Importing stock ml libraries\n",
    "import warnings\n",
    "warnings.simplefilter('ignore')\n",
    "import numpy as np\n",
    "import pandas as pd\n",
    "from tqdm import tqdm\n",
    "from sklearn import metrics\n",
    "import transformers\n",
    "import torch\n",
    "from torch.utils.data import Dataset, DataLoader, RandomSampler, SequentialSampler\n",
    "from transformers import DistilBertTokenizer, DistilBertModel\n",
    "from matplotlib import pyplot as plt\n",
    "import logging\n",
    "logging.basicConfig(level=logging.ERROR)"
   ]
  },
  {
   "cell_type": "code",
   "execution_count": 31,
   "id": "aaba2ae8-d680-4475-96b0-7f8520d39a2c",
   "metadata": {},
   "outputs": [],
   "source": [
    "df = pd.read_excel(\"WMC_DATA_MSA_DF.xlsx\")\n",
    "df.drop(columns = [\"Q1.4\", \"Q2.4\", \"Q1.8\", \"Q2.8\", \"V1\",\n",
    "                   \"Q1_letter_count\", \"Q2_letter_count\",\n",
    "                   \"Q1_word_count\", \"Q2_word_count\", \"DataSet \"], inplace = True)\n",
    "df.drop([0], inplace = True)\n",
    "df[\"Q1_sum\"] = df[\"Q1.1\"] + df[\"Q1.2\"] + df[\"Q1.3\"] + df[\"Q1.5\"] + df[\"Q1.6\"] + df[\"Q1.7\"]\n",
    "df[\"Q2_sum\"] = df[\"Q2.1\"] + df[\"Q2.2\"] + df[\"Q2.3\"] + df[\"Q2.5\"] + df[\"Q2.6\"] + df[\"Q2.7\"]\n",
    "df = df.dropna()\n",
    "df = df[df.Q1_sum >-1]\n",
    "df = df[df.Q2_sum >-1]\n",
    "\n",
    "# df_sum = df.copy()\n",
    "# df_sum.drop(columns = [\"Q1.1\", \"Q1.2\", \"Q1.3\", \"Q1.5\", \"Q1.6\", \"Q1.7\",\n",
    "#                     \"Q2.1\", \"Q2.2\", \"Q2.3\", \"Q2.5\", \"Q2.6\", \"Q2.7\"], inplace = True)\n",
    "# df_sum = df_sum.dropna()"
   ]
  },
  {
   "cell_type": "code",
   "execution_count": 4,
   "id": "4026049a-1948-40eb-8c1a-3af840a3786e",
   "metadata": {},
   "outputs": [
    {
     "data": {
      "text/html": [
       "<div>\n",
       "<style scoped>\n",
       "    .dataframe tbody tr th:only-of-type {\n",
       "        vertical-align: middle;\n",
       "    }\n",
       "\n",
       "    .dataframe tbody tr th {\n",
       "        vertical-align: top;\n",
       "    }\n",
       "\n",
       "    .dataframe thead th {\n",
       "        text-align: right;\n",
       "    }\n",
       "</style>\n",
       "<table border=\"1\" class=\"dataframe\">\n",
       "  <thead>\n",
       "    <tr style=\"text-align: right;\">\n",
       "      <th></th>\n",
       "      <th>Q1</th>\n",
       "      <th>Q2</th>\n",
       "      <th>Q1.1</th>\n",
       "      <th>Q1.2</th>\n",
       "      <th>Q1.3</th>\n",
       "      <th>Q1.5</th>\n",
       "      <th>Q1.6</th>\n",
       "      <th>Q1.7</th>\n",
       "      <th>Q2.1</th>\n",
       "      <th>Q2.2</th>\n",
       "      <th>Q2.3</th>\n",
       "      <th>Q2.5</th>\n",
       "      <th>Q2.6</th>\n",
       "      <th>Q2.7</th>\n",
       "      <th>Q1_sum</th>\n",
       "      <th>Q2_sum</th>\n",
       "    </tr>\n",
       "  </thead>\n",
       "  <tbody>\n",
       "    <tr>\n",
       "      <th>1</th>\n",
       "      <td>A child and a man, presumably the father, are ...</td>\n",
       "      <td>We are cycling down in the countryside my fath...</td>\n",
       "      <td>1</td>\n",
       "      <td>0</td>\n",
       "      <td>0</td>\n",
       "      <td>0</td>\n",
       "      <td>0</td>\n",
       "      <td>0</td>\n",
       "      <td>7</td>\n",
       "      <td>3</td>\n",
       "      <td>0</td>\n",
       "      <td>0</td>\n",
       "      <td>0</td>\n",
       "      <td>0</td>\n",
       "      <td>1</td>\n",
       "      <td>10</td>\n",
       "    </tr>\n",
       "    <tr>\n",
       "      <th>2</th>\n",
       "      <td>Scene opens with a father and daughter riding ...</td>\n",
       "      <td>I imagine she'd be happy to be spending time w...</td>\n",
       "      <td>1</td>\n",
       "      <td>1</td>\n",
       "      <td>0</td>\n",
       "      <td>0</td>\n",
       "      <td>0</td>\n",
       "      <td>0</td>\n",
       "      <td>5</td>\n",
       "      <td>4</td>\n",
       "      <td>0</td>\n",
       "      <td>1</td>\n",
       "      <td>1</td>\n",
       "      <td>0</td>\n",
       "      <td>2</td>\n",
       "      <td>11</td>\n",
       "    </tr>\n",
       "    <tr>\n",
       "      <th>5</th>\n",
       "      <td>The clip commences with a cross view of the gi...</td>\n",
       "      <td>I would imagine she experiences glee at first,...</td>\n",
       "      <td>0</td>\n",
       "      <td>3</td>\n",
       "      <td>1</td>\n",
       "      <td>1</td>\n",
       "      <td>0</td>\n",
       "      <td>0</td>\n",
       "      <td>20</td>\n",
       "      <td>0</td>\n",
       "      <td>1</td>\n",
       "      <td>1</td>\n",
       "      <td>0</td>\n",
       "      <td>0</td>\n",
       "      <td>5</td>\n",
       "      <td>22</td>\n",
       "    </tr>\n",
       "    <tr>\n",
       "      <th>6</th>\n",
       "      <td>A girl cycles with her father to see him off a...</td>\n",
       "      <td>The girl seems to be happy to cycle along with...</td>\n",
       "      <td>0</td>\n",
       "      <td>1</td>\n",
       "      <td>1</td>\n",
       "      <td>0</td>\n",
       "      <td>0</td>\n",
       "      <td>0</td>\n",
       "      <td>6</td>\n",
       "      <td>2</td>\n",
       "      <td>0</td>\n",
       "      <td>0</td>\n",
       "      <td>0</td>\n",
       "      <td>0</td>\n",
       "      <td>2</td>\n",
       "      <td>8</td>\n",
       "    </tr>\n",
       "    <tr>\n",
       "      <th>7</th>\n",
       "      <td>A father and daughter are cycling through the ...</td>\n",
       "      <td>She is very happy at first because she is goin...</td>\n",
       "      <td>1</td>\n",
       "      <td>0</td>\n",
       "      <td>1</td>\n",
       "      <td>0</td>\n",
       "      <td>0</td>\n",
       "      <td>1</td>\n",
       "      <td>3</td>\n",
       "      <td>0</td>\n",
       "      <td>0</td>\n",
       "      <td>0</td>\n",
       "      <td>0</td>\n",
       "      <td>0</td>\n",
       "      <td>3</td>\n",
       "      <td>3</td>\n",
       "    </tr>\n",
       "  </tbody>\n",
       "</table>\n",
       "</div>"
      ],
      "text/plain": [
       "                                                  Q1  \\\n",
       "1  A child and a man, presumably the father, are ...   \n",
       "2  Scene opens with a father and daughter riding ...   \n",
       "5  The clip commences with a cross view of the gi...   \n",
       "6  A girl cycles with her father to see him off a...   \n",
       "7  A father and daughter are cycling through the ...   \n",
       "\n",
       "                                                  Q2 Q1.1 Q1.2 Q1.3 Q1.5 Q1.6  \\\n",
       "1  We are cycling down in the countryside my fath...    1    0    0    0    0   \n",
       "2  I imagine she'd be happy to be spending time w...    1    1    0    0    0   \n",
       "5  I would imagine she experiences glee at first,...    0    3    1    1    0   \n",
       "6  The girl seems to be happy to cycle along with...    0    1    1    0    0   \n",
       "7  She is very happy at first because she is goin...    1    0    1    0    0   \n",
       "\n",
       "  Q1.7 Q2.1 Q2.2 Q2.3 Q2.5 Q2.6 Q2.7 Q1_sum Q2_sum  \n",
       "1    0    7    3    0    0    0    0      1     10  \n",
       "2    0    5    4    0    1    1    0      2     11  \n",
       "5    0   20    0    1    1    0    0      5     22  \n",
       "6    0    6    2    0    0    0    0      2      8  \n",
       "7    1    3    0    0    0    0    0      3      3  "
      ]
     },
     "execution_count": 4,
     "metadata": {},
     "output_type": "execute_result"
    }
   ],
   "source": [
    "df.head()"
   ]
  },
  {
   "cell_type": "code",
   "execution_count": 5,
   "id": "e5fa7f2b-1f12-43cc-bf35-ba06d055d511",
   "metadata": {},
   "outputs": [
    {
     "data": {
      "image/png": "[encoded data removed]",
      "text/plain": [
       "<Figure size 640x480 with 12 Axes>"
      ]
     },
     "metadata": {},
     "output_type": "display_data"
    }
   ],
   "source": [
    "titles1 = [\"Q1\", \"Q2\"]\n",
    "titles2 = [\".1\", \".2\", \".3\", \".5\", \".6\", \".7\"]\n",
    "\n",
    "fig, axs = plt.subplots(2,6)\n",
    "fig.tight_layout()\n",
    "\n",
    "for i in range(2):\n",
    "    for j in range(6):\n",
    "        name = titles1[i] + titles2[j]\n",
    "        axs[i,j].hist(df[name])\n",
    "        axs[i,j].set_title(name)\n",
    "        "
   ]
  },
  {
   "cell_type": "code",
   "execution_count": 68,
   "id": "c1209a80-ef19-48b3-928e-a7ffacd44143",
   "metadata": {},
   "outputs": [
    {
     "data": {
      "text/html": [
       "<div>\n",
       "<style scoped>\n",
       "    .dataframe tbody tr th:only-of-type {\n",
       "        vertical-align: middle;\n",
       "    }\n",
       "\n",
       "    .dataframe tbody tr th {\n",
       "        vertical-align: top;\n",
       "    }\n",
       "\n",
       "    .dataframe thead th {\n",
       "        text-align: right;\n",
       "    }\n",
       "</style>\n",
       "<table border=\"1\" class=\"dataframe\">\n",
       "  <thead>\n",
       "    <tr style=\"text-align: right;\">\n",
       "      <th></th>\n",
       "      <th>text</th>\n",
       "      <th>labels</th>\n",
       "    </tr>\n",
       "  </thead>\n",
       "  <tbody>\n",
       "    <tr>\n",
       "      <th>0</th>\n",
       "      <td>A child and a man, presumably the father, are ...</td>\n",
       "      <td>1</td>\n",
       "    </tr>\n",
       "    <tr>\n",
       "      <th>1</th>\n",
       "      <td>Scene opens with a father and daughter riding ...</td>\n",
       "      <td>1</td>\n",
       "    </tr>\n",
       "    <tr>\n",
       "      <th>2</th>\n",
       "      <td>The clip commences with a cross view of the gi...</td>\n",
       "      <td>0</td>\n",
       "    </tr>\n",
       "    <tr>\n",
       "      <th>3</th>\n",
       "      <td>A girl cycles with her father to see him off a...</td>\n",
       "      <td>0</td>\n",
       "    </tr>\n",
       "    <tr>\n",
       "      <th>4</th>\n",
       "      <td>A father and daughter are cycling through the ...</td>\n",
       "      <td>1</td>\n",
       "    </tr>\n",
       "  </tbody>\n",
       "</table>\n",
       "</div>"
      ],
      "text/plain": [
       "                                                text labels\n",
       "0  A child and a man, presumably the father, are ...      1\n",
       "1  Scene opens with a father and daughter riding ...      1\n",
       "2  The clip commences with a cross view of the gi...      0\n",
       "3  A girl cycles with her father to see him off a...      0\n",
       "4  A father and daughter are cycling through the ...      1"
      ]
     },
     "execution_count": 68,
     "metadata": {},
     "output_type": "execute_result"
    }
   ],
   "source": [
    "# Use Q1.1 for testing:\n",
    "trainData = pd.DataFrame()\n",
    "trainData[\"text\"] = df[\"Q1\"]\n",
    "trainData[\"labels\"] = df[\"Q1.1\"]\n",
    "#trainData.labels = trainData.labels.to_numpy()\n",
    "trainData = trainData.reset_index(drop = True)\n",
    "\n",
    "trainData.head()"
   ]
  },
  {
   "cell_type": "markdown",
   "id": "4811f23e-b806-470a-a51f-0d91740ffcdd",
   "metadata": {
    "jp-MarkdownHeadingCollapsed": true
   },
   "source": [
    "## Data Preparation"
   ]
  },
  {
   "cell_type": "code",
   "execution_count": 7,
   "id": "d9f356ec-9c59-4148-be7f-d64303dcc7de",
   "metadata": {},
   "outputs": [],
   "source": [
    "# Params\n",
    "# To do: Look into tokenizer params\n",
    "MAX_LEN = 128\n",
    "TRAIN_BATCH_SIZE = 4\n",
    "VALID_BATCH_SIZE = 4\n",
    "EPOCHS = 1\n",
    "LEARNING_RATE = 1e-05\n",
    "tokenizer = DistilBertTokenizer.from_pretrained('distilbert-base-uncased', truncation=True, do_lower_case=True)"
   ]
  },
  {
   "cell_type": "code",
   "execution_count": 55,
   "id": "192998c5-62db-4ffb-9d2c-ff3d77f5a034",
   "metadata": {},
   "outputs": [],
   "source": [
    "class MultiLabelDataset(Dataset):\n",
    "\n",
    "    def __init__(self, dataframe, tokenizer, max_len):\n",
    "        self.tokenizer = tokenizer\n",
    "        self.data = dataframe\n",
    "        self.text = dataframe.text\n",
    "        self.targets = self.data.labels\n",
    "        self.max_len = max_len\n",
    "\n",
    "    def __len__(self):\n",
    "        return len(self.text)\n",
    "\n",
    "    def __getitem__(self, index):\n",
    "        text = str(self.text[index])\n",
    "        text = \" \".join(text.split())\n",
    "\n",
    "        inputs = self.tokenizer.encode_plus(\n",
    "            text,\n",
    "            None,\n",
    "            add_special_tokens=True,\n",
    "            max_length=self.max_len,\n",
    "            pad_to_max_length=True,\n",
    "            return_token_type_ids=True\n",
    "        )\n",
    "        ids = inputs['input_ids']\n",
    "        mask = inputs['attention_mask']\n",
    "        token_type_ids = inputs[\"token_type_ids\"]\n",
    "\n",
    "\n",
    "        return {\n",
    "            'ids': torch.tensor(ids, dtype=torch.long),\n",
    "            'mask': torch.tensor(mask, dtype=torch.long),\n",
    "            'token_type_ids': torch.tensor(token_type_ids, dtype=torch.long),\n",
    "            'targets': torch.tensor(self.targets[index], dtype=torch.float)\n",
    "        }"
   ]
  },
  {
   "cell_type": "code",
   "execution_count": 69,
   "id": "bbac036b-0a23-4734-a6db-634d71ad746d",
   "metadata": {},
   "outputs": [],
   "source": [
    "# Create dataset\n",
    "# trainData = PandasDataset(trainData)\n",
    "train = MultiLabelDataset(trainData, tokenizer, MAX_LEN)\n",
    "train_params = {'batch_size': TRAIN_BATCH_SIZE,\n",
    "                'shuffle': True,\n",
    "                'num_workers': 0\n",
    "                }\n",
    "\n",
    "training_loader = DataLoader(train, **train_params)"
   ]
  },
  {
   "cell_type": "markdown",
   "id": "674ab36c-4dc7-431d-995a-d47f9dc1655f",
   "metadata": {},
   "source": [
    "## Model"
   ]
  },
  {
   "cell_type": "code",
   "execution_count": 71,
   "id": "bbcea6c2-6791-493e-8d7d-a68caa35c40e",
   "metadata": {},
   "outputs": [],
   "source": [
    "class nn_score(torch.nn.Module):\n",
    "    def __init__(self):\n",
    "        super(nn_score, self).__init__()\n",
    "        self.l1 = DistilBertModel.from_pretrained(\"distilbert-base-uncased\")\n",
    "        self.pre_classifier = torch.nn.Linear(768, 768)\n",
    "        self.dropout = torch.nn.Dropout(0.1)\n",
    "        self.scoreOut = torch.nn.Linear(768, 1)\n",
    "\n",
    "    def forward(self, input_ids, attention_mask, token_type_ids):\n",
    "        output_1 = self.l1(input_ids=input_ids, attention_mask=attention_mask)\n",
    "        hidden_state = output_1[0]\n",
    "        pooler = hidden_state[:, 0]\n",
    "        pooler = self.pre_classifier(pooler)\n",
    "        pooler = torch.nn.Tanh()(pooler)\n",
    "        pooler = self.dropout(pooler)\n",
    "        output = self.scoreOut(pooler)\n",
    "        return output\n",
    "\n",
    "model = nn_score()"
   ]
  },
  {
   "cell_type": "code",
   "execution_count": 72,
   "id": "a8ac72e2-71ee-4edf-b781-0f982c33e049",
   "metadata": {},
   "outputs": [
    {
     "data": {
      "text/plain": [
       "nn_score(\n",
       "  (l1): DistilBertModel(\n",
       "    (embeddings): Embeddings(\n",
       "      (word_embeddings): Embedding(30522, 768, padding_idx=0)\n",
       "      (position_embeddings): Embedding(512, 768)\n",
       "      (LayerNorm): LayerNorm((768,), eps=1e-12, elementwise_affine=True)\n",
       "      (dropout): Dropout(p=0.1, inplace=False)\n",
       "    )\n",
       "    (transformer): Transformer(\n",
       "      (layer): ModuleList(\n",
       "        (0-5): 6 x TransformerBlock(\n",
       "          (attention): MultiHeadSelfAttention(\n",
       "            (dropout): Dropout(p=0.1, inplace=False)\n",
       "            (q_lin): Linear(in_features=768, out_features=768, bias=True)\n",
       "            (k_lin): Linear(in_features=768, out_features=768, bias=True)\n",
       "            (v_lin): Linear(in_features=768, out_features=768, bias=True)\n",
       "            (out_lin): Linear(in_features=768, out_features=768, bias=True)\n",
       "          )\n",
       "          (sa_layer_norm): LayerNorm((768,), eps=1e-12, elementwise_affine=True)\n",
       "          (ffn): FFN(\n",
       "            (dropout): Dropout(p=0.1, inplace=False)\n",
       "            (lin1): Linear(in_features=768, out_features=3072, bias=True)\n",
       "            (lin2): Linear(in_features=3072, out_features=768, bias=True)\n",
       "            (activation): GELUActivation()\n",
       "          )\n",
       "          (output_layer_norm): LayerNorm((768,), eps=1e-12, elementwise_affine=True)\n",
       "        )\n",
       "      )\n",
       "    )\n",
       "  )\n",
       "  (pre_classifier): Linear(in_features=768, out_features=768, bias=True)\n",
       "  (dropout): Dropout(p=0.1, inplace=False)\n",
       "  (scoreOut): Linear(in_features=768, out_features=1, bias=True)\n",
       ")"
      ]
     },
     "execution_count": 72,
     "metadata": {},
     "output_type": "execute_result"
    }
   ],
   "source": [
    "model"
   ]
  },
  {
   "cell_type": "code",
   "execution_count": 97,
   "id": "6435270d-958c-4833-880d-f64d404669b2",
   "metadata": {},
   "outputs": [],
   "source": [
    "# Visualization\n",
    "lossVals = []"
   ]
  },
  {
   "cell_type": "code",
   "execution_count": 100,
   "id": "210be0e0-bb6b-46cb-b53c-935861d64a5d",
   "metadata": {},
   "outputs": [],
   "source": [
    "# Training loop\n",
    "# To do: send tensors to device\n",
    "loss_fn = torch.nn.MSELoss()\n",
    "optimizer = torch.optim.Adam(params = model.parameters(), lr=1e-4)\n",
    "\n",
    "model.train()\n",
    "pass # somehow block cant rerun without this\n",
    "for i in range(EPOCHS):\n",
    "    for idx, data in enumerate(training_loader, 0):\n",
    "        #print(data)\n",
    "        ids = data['ids']\n",
    "        mask = data['mask']\n",
    "        token_type_ids = data['token_type_ids']\n",
    "        targets = data['targets']\n",
    "        targets = targets.reshape(-1,1)\n",
    "\n",
    "        outputs = model(ids, mask, token_type_ids)\n",
    "        optimizer.zero_grad()\n",
    "        loss = loss_fn(outputs, targets.reshape(-1,1))\n",
    "\n",
    "        loss.backward()\n",
    "        optimizer.step()\n",
    "\n",
    "        lossVals.append(loss.item())\n"
   ]
  },
  {
   "cell_type": "code",
   "execution_count": 101,
   "id": "dc144c09-45de-4355-8b87-2bab1fe5ae03",
   "metadata": {},
   "outputs": [
    {
     "data": {
      "text/plain": [
       "[<matplotlib.lines.Line2D at 0x33a6470d0>]"
      ]
     },
     "execution_count": 101,
     "metadata": {},
     "output_type": "execute_result"
    },
    {
     "data": {
      "image/png": "[encoded data removed]",
      "text/plain": [
       "<Figure size 640x480 with 1 Axes>"
      ]
     },
     "metadata": {},
     "output_type": "display_data"
    }
   ],
   "source": [
    "plt.plot(lossVals)"
   ]
  },
  {
   "cell_type": "code",
   "execution_count": 102,
   "id": "c5627cfd-d40e-4704-96e0-e2d816f03928",
   "metadata": {},
   "outputs": [
    {
     "data": {
      "text/plain": [
       "tensor([[1.6944]], grad_fn=<AddmmBackward0>)"
      ]
     },
     "execution_count": 102,
     "metadata": {},
     "output_type": "execute_result"
    }
   ],
   "source": [
    "outputs"
   ]
  },
  {
   "cell_type": "code",
   "execution_count": 103,
   "id": "99bc93c2-e17e-4779-ae8e-8ded5ace98fd",
   "metadata": {},
   "outputs": [
    {
     "data": {
      "text/plain": [
       "tensor([[1.]])"
      ]
     },
     "execution_count": 103,
     "metadata": {},
     "output_type": "execute_result"
    }
   ],
   "source": [
    "targets"
   ]
  },
  {
   "cell_type": "code",
   "execution_count": null,
   "id": "029079d7-1fb6-477c-bf8f-9ef58c5482c1",
   "metadata": {},
   "outputs": [],
   "source": []
  }
 ],
 "metadata": {
  "kernelspec": {
   "display_name": "Python 3 (ipykernel)",
   "language": "python",
   "name": "python3"
  },
  "language_info": {
   "codemirror_mode": {
    "name": "ipython",
    "version": 3
   },
   "file_extension": ".py",
   "mimetype": "text/x-python",
   "name": "python",
   "nbconvert_exporter": "python",
   "pygments_lexer": "ipython3",
   "version": "3.11.9"
  }
 },
 "nbformat": 4,
 "nbformat_minor": 5
}
