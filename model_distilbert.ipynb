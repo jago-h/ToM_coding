{
 "cells": [
  {
   "cell_type": "markdown",
   "id": "e0761526-dd05-4033-9634-dbbea185ab0c",
   "metadata": {},
   "source": [
    "**To do:**\n",
    "- Expand dataset\n",
    "- |-> Train/Val or Train/Val/Test\n",
    "- ~~Expand to multilabel prediction~~\n",
    "- Round outputs to nearest decimal -> check performance"
   ]
  },
  {
   "cell_type": "markdown",
   "id": "8b39bbce-4493-4f83-a0f9-91b7a812bef7",
   "metadata": {},
   "source": [
    "## Data"
   ]
  },
  {
   "cell_type": "code",
   "execution_count": 1,
   "id": "9a86a660-dd9e-47da-85a5-a896fab03054",
   "metadata": {},
   "outputs": [],
   "source": [
    "import numpy as np\n",
    "import pandas as pd\n",
    "from matplotlib import pyplot as plt"
   ]
  },
  {
   "cell_type": "code",
   "execution_count": 2,
   "id": "4568f42b-ab9b-40aa-9a27-75ec0a2c591d",
   "metadata": {},
   "outputs": [],
   "source": [
    "# Importing stock ml libraries\n",
    "import warnings\n",
    "warnings.simplefilter('ignore')\n",
    "import numpy as np\n",
    "import pandas as pd\n",
    "from tqdm import tqdm\n",
    "from sklearn import metrics\n",
    "import transformers\n",
    "import torch\n",
    "from torch.utils.data import Dataset, DataLoader, RandomSampler, SequentialSampler\n",
    "from transformers import DistilBertTokenizer, DistilBertModel\n",
    "from matplotlib import pyplot as plt\n",
    "import logging\n",
    "logging.basicConfig(level=logging.ERROR)"
   ]
  },
  {
   "cell_type": "code",
   "execution_count": 5,
   "id": "9d2a6778-2cec-4ffe-8d2d-bdbec66eea16",
   "metadata": {},
   "outputs": [
    {
     "name": "stdout",
     "output_type": "stream",
     "text": [
      "Dataset 1: 128 rows\n",
      "Removed 43 rows\n",
      "\n",
      "Dataset 2: 63 rows\n",
      "Removed 0 rows\n"
     ]
    }
   ],
   "source": [
    "names1 = {\n",
    "    \"Q1.1\": \"aff_tar\", \"Q1.2\": \"cog_tar\", \"Q1.3\": \"int_tar\", \"Q1.5\": \"aff_oth\",\n",
    "     \"Q1.6\": \"cog_oth\", \"Q1.7\": \"int_oth\"\n",
    "}\n",
    "\n",
    "df1 = pd.read_excel(\"DATA/WMC_DATA_MSA_DF.xlsx\")\n",
    "len1 = len(df1)\n",
    "df1.drop(columns = [\"Q2\", \"Q1.4\", \"Q1.8\", \"Q2.4\", \"Q2.1\",\n",
    "                    \"Q2.2\", \"Q2.3\", \"Q2.4\", \"Q2.5\", \"Q2.6\",\n",
    "                    \"Q2.7\", \"Q2.8\", \"V1\", \n",
    "                    \"Q1_letter_count\", \"Q2_letter_count\", \n",
    "                    \"Q1_word_count\", \"Q2_word_count\", \"DataSet \"], inplace = True)\n",
    "df1.drop([0], inplace = True)\n",
    "df1.rename(columns = names1, inplace = True)\n",
    "df1.dropna(inplace = True)\n",
    "\n",
    "df2_temp = pd.read_excel(\"DATA/5 VEC Data MSA.xlsx\")\n",
    "len2 = len(df2_temp)\n",
    "df2_temp = df2_temp.dropna()\n",
    "df2 = pd.DataFrame()\n",
    "df2[\"Q1\"] = df2_temp[\"CJ_tend\"]\n",
    "df2[\"aff_tar\"] = df2_temp[\"CJ_tend_aff_target\"]\n",
    "df2[\"cog_tar\"] = df2_temp[\"CJ_tend_cog_target\"]\n",
    "df2[\"int_tar\"] = df2_temp[\"CJ_tend_int_target\"]\n",
    "df2[\"aff_oth\"] = df2_temp[\"CJ_tend_aff_self\"]\n",
    "df2[\"cog_oth\"] = df2_temp[\"CJ_tend_cog_self\"]\n",
    "df2[\"int_oth\"] = df2_temp[\"CJ_tend_cog_self\"]\n",
    "df2.dropna(inplace = True)\n",
    "\n",
    "# Filter out negative values\n",
    "df1[\"total\"] = df1[\"aff_tar\"] + df1[\"cog_tar\"] + df1[\"int_tar\"] + df1[\"aff_oth\"] + df1[\"cog_oth\"] + df1[\"int_oth\"]\n",
    "df2[\"total\"] = df2[\"aff_tar\"] + df2[\"cog_tar\"] + df2[\"int_tar\"] + df2[\"aff_oth\"] + df2[\"cog_oth\"] + df2[\"int_oth\"]\n",
    "df1 = df1[df1.total > -1]\n",
    "df2 = df2[df2.total >-1]\n",
    "df1.drop(columns = [\"total\"], inplace = True)\n",
    "df2.drop(columns = [\"total\"], inplace = True)\n",
    "\n",
    "print(\"Dataset 1:\", len(df1), \"rows\")\n",
    "print(\"Removed\", len1 - len(df1), \"rows\\n\")\n",
    "print(\"Dataset 2:\", len(df2), \"rows\")\n",
    "print(\"Removed\", len2 - len(df2), \"rows\")"
   ]
  },
  {
   "cell_type": "code",
   "execution_count": 6,
   "id": "20ed77ee-301e-48f0-90d9-9a038f6cabe8",
   "metadata": {},
   "outputs": [
    {
     "data": {
      "text/html": [
       "<div>\n",
       "<style scoped>\n",
       "    .dataframe tbody tr th:only-of-type {\n",
       "        vertical-align: middle;\n",
       "    }\n",
       "\n",
       "    .dataframe tbody tr th {\n",
       "        vertical-align: top;\n",
       "    }\n",
       "\n",
       "    .dataframe thead th {\n",
       "        text-align: right;\n",
       "    }\n",
       "</style>\n",
       "<table border=\"1\" class=\"dataframe\">\n",
       "  <thead>\n",
       "    <tr style=\"text-align: right;\">\n",
       "      <th></th>\n",
       "      <th>Q1</th>\n",
       "      <th>aff_tar</th>\n",
       "      <th>cog_tar</th>\n",
       "      <th>int_tar</th>\n",
       "      <th>aff_oth</th>\n",
       "      <th>cog_oth</th>\n",
       "      <th>int_oth</th>\n",
       "    </tr>\n",
       "  </thead>\n",
       "  <tbody>\n",
       "    <tr>\n",
       "      <th>1</th>\n",
       "      <td>A child and a man, presumably the father, are ...</td>\n",
       "      <td>1</td>\n",
       "      <td>0</td>\n",
       "      <td>0</td>\n",
       "      <td>0</td>\n",
       "      <td>0</td>\n",
       "      <td>0</td>\n",
       "    </tr>\n",
       "    <tr>\n",
       "      <th>2</th>\n",
       "      <td>Scene opens with a father and daughter riding ...</td>\n",
       "      <td>1</td>\n",
       "      <td>1</td>\n",
       "      <td>0</td>\n",
       "      <td>0</td>\n",
       "      <td>0</td>\n",
       "      <td>0</td>\n",
       "    </tr>\n",
       "    <tr>\n",
       "      <th>3</th>\n",
       "      <td>A father and daughter rode their bikes along a...</td>\n",
       "      <td>0</td>\n",
       "      <td>0</td>\n",
       "      <td>0</td>\n",
       "      <td>0</td>\n",
       "      <td>0</td>\n",
       "      <td>0</td>\n",
       "    </tr>\n",
       "    <tr>\n",
       "      <th>5</th>\n",
       "      <td>The clip commences with a cross view of the gi...</td>\n",
       "      <td>0</td>\n",
       "      <td>3</td>\n",
       "      <td>1</td>\n",
       "      <td>1</td>\n",
       "      <td>0</td>\n",
       "      <td>0</td>\n",
       "    </tr>\n",
       "    <tr>\n",
       "      <th>6</th>\n",
       "      <td>A girl cycles with her father to see him off a...</td>\n",
       "      <td>0</td>\n",
       "      <td>1</td>\n",
       "      <td>1</td>\n",
       "      <td>0</td>\n",
       "      <td>0</td>\n",
       "      <td>0</td>\n",
       "    </tr>\n",
       "  </tbody>\n",
       "</table>\n",
       "</div>"
      ],
      "text/plain": [
       "                                                  Q1 aff_tar cog_tar int_tar  \\\n",
       "1  A child and a man, presumably the father, are ...       1       0       0   \n",
       "2  Scene opens with a father and daughter riding ...       1       1       0   \n",
       "3  A father and daughter rode their bikes along a...       0       0       0   \n",
       "5  The clip commences with a cross view of the gi...       0       3       1   \n",
       "6  A girl cycles with her father to see him off a...       0       1       1   \n",
       "\n",
       "  aff_oth cog_oth int_oth  \n",
       "1       0       0       0  \n",
       "2       0       0       0  \n",
       "3       0       0       0  \n",
       "5       1       0       0  \n",
       "6       0       0       0  "
      ]
     },
     "execution_count": 6,
     "metadata": {},
     "output_type": "execute_result"
    }
   ],
   "source": [
    "df1.head()"
   ]
  },
  {
   "cell_type": "code",
   "execution_count": 7,
   "id": "4026049a-1948-40eb-8c1a-3af840a3786e",
   "metadata": {},
   "outputs": [
    {
     "data": {
      "text/html": [
       "<div>\n",
       "<style scoped>\n",
       "    .dataframe tbody tr th:only-of-type {\n",
       "        vertical-align: middle;\n",
       "    }\n",
       "\n",
       "    .dataframe tbody tr th {\n",
       "        vertical-align: top;\n",
       "    }\n",
       "\n",
       "    .dataframe thead th {\n",
       "        text-align: right;\n",
       "    }\n",
       "</style>\n",
       "<table border=\"1\" class=\"dataframe\">\n",
       "  <thead>\n",
       "    <tr style=\"text-align: right;\">\n",
       "      <th></th>\n",
       "      <th>Q1</th>\n",
       "      <th>aff_tar</th>\n",
       "      <th>cog_tar</th>\n",
       "      <th>int_tar</th>\n",
       "      <th>aff_oth</th>\n",
       "      <th>cog_oth</th>\n",
       "      <th>int_oth</th>\n",
       "    </tr>\n",
       "  </thead>\n",
       "  <tbody>\n",
       "    <tr>\n",
       "      <th>0</th>\n",
       "      <td>two children are stealing cookies from the jar...</td>\n",
       "      <td>0</td>\n",
       "      <td>0</td>\n",
       "      <td>1</td>\n",
       "      <td>0</td>\n",
       "      <td>0</td>\n",
       "      <td>0</td>\n",
       "    </tr>\n",
       "    <tr>\n",
       "      <th>1</th>\n",
       "      <td>This house seems chaotic. The boy is on a stoo...</td>\n",
       "      <td>0</td>\n",
       "      <td>1</td>\n",
       "      <td>0</td>\n",
       "      <td>0</td>\n",
       "      <td>0</td>\n",
       "      <td>0</td>\n",
       "    </tr>\n",
       "    <tr>\n",
       "      <th>2</th>\n",
       "      <td>(Presumably)Mother daydreaming, distracted by ...</td>\n",
       "      <td>0</td>\n",
       "      <td>2</td>\n",
       "      <td>0</td>\n",
       "      <td>0</td>\n",
       "      <td>0</td>\n",
       "      <td>0</td>\n",
       "    </tr>\n",
       "    <tr>\n",
       "      <th>3</th>\n",
       "      <td>a woman is washing the dishes\\nwater is spilli...</td>\n",
       "      <td>0</td>\n",
       "      <td>0</td>\n",
       "      <td>0</td>\n",
       "      <td>0</td>\n",
       "      <td>0</td>\n",
       "      <td>0</td>\n",
       "    </tr>\n",
       "    <tr>\n",
       "      <th>4</th>\n",
       "      <td>A woman is washing the plates.However, the wat...</td>\n",
       "      <td>0</td>\n",
       "      <td>1</td>\n",
       "      <td>0</td>\n",
       "      <td>0</td>\n",
       "      <td>0</td>\n",
       "      <td>0</td>\n",
       "    </tr>\n",
       "  </tbody>\n",
       "</table>\n",
       "</div>"
      ],
      "text/plain": [
       "                                                  Q1  aff_tar  cog_tar  \\\n",
       "0  two children are stealing cookies from the jar...        0        0   \n",
       "1  This house seems chaotic. The boy is on a stoo...        0        1   \n",
       "2  (Presumably)Mother daydreaming, distracted by ...        0        2   \n",
       "3  a woman is washing the dishes\\nwater is spilli...        0        0   \n",
       "4  A woman is washing the plates.However, the wat...        0        1   \n",
       "\n",
       "   int_tar  aff_oth  cog_oth  int_oth  \n",
       "0        1        0        0        0  \n",
       "1        0        0        0        0  \n",
       "2        0        0        0        0  \n",
       "3        0        0        0        0  \n",
       "4        0        0        0        0  "
      ]
     },
     "execution_count": 7,
     "metadata": {},
     "output_type": "execute_result"
    }
   ],
   "source": [
    "df2.head()"
   ]
  },
  {
   "cell_type": "code",
   "execution_count": 8,
   "id": "02435a41-e8a0-4103-a797-f3bac049eab8",
   "metadata": {},
   "outputs": [],
   "source": [
    "def plotHist(df, name):\n",
    "    fig, axs = plt.subplots(1,6)\n",
    "    fig.suptitle(\"Movie: \" + name)\n",
    "    fig.tight_layout()\n",
    "    cols = [df.columns][0]\n",
    "    for i in range(6):\n",
    "        axs[i].hist(df[cols[i+1]])\n",
    "        axs[i].set_title(cols[i+1])\n"
   ]
  },
  {
   "cell_type": "code",
   "execution_count": 9,
   "id": "c4ba2937-4b23-42bb-a7b7-e0db4e34ba8c",
   "metadata": {},
   "outputs": [
    {
     "data": {
      "image/png": "[encoded data removed]",
      "text/plain": [
       "<Figure size 640x480 with 6 Axes>"
      ]
     },
     "metadata": {},
     "output_type": "display_data"
    }
   ],
   "source": [
    "plotHist(df1, \"Watching more closely\")"
   ]
  },
  {
   "cell_type": "code",
   "execution_count": 10,
   "id": "ea083994-7936-487b-9234-1faad48de000",
   "metadata": {},
   "outputs": [
    {
     "data": {
      "image/png": "[encoded data removed]",
      "text/plain": [
       "<Figure size 640x480 with 6 Axes>"
      ]
     },
     "metadata": {},
     "output_type": "display_data"
    }
   ],
   "source": [
    "plotHist(df2, \"Coffe without words\")"
   ]
  },
  {
   "cell_type": "code",
   "execution_count": 32,
   "id": "f77489e5-8b7b-4896-aff6-e8ceb932254f",
   "metadata": {},
   "outputs": [],
   "source": [
    "# Combine dataframes\n",
    "trainData = pd.concat([df1, df2])\n",
    "trainData.reset_index(drop = True, inplace = True)\n",
    "\n",
    "# Single Attribute Prediction\n",
    "trainDataSingle = pd.DataFrame()\n",
    "trainDataSingle[\"text\"] = trainData[\"Q1\"]\n",
    "trainDataSingle[\"labels\"] = trainData[\"aff_tar\"]\n",
    "\n",
    "# Multiple Attribute Prediction\n",
    "trainDataMulti = pd.DataFrame()\n",
    "trainDataMulti[\"text\"] = trainData[\"Q1\"]\n",
    "trainDataMulti[\"labels\"] = trainData.iloc[:,1:8].values.tolist()"
   ]
  },
  {
   "cell_type": "code",
   "execution_count": 33,
   "id": "e11d19d5-69cd-4ad2-82ab-c26bfa6fa7fd",
   "metadata": {},
   "outputs": [
    {
     "data": {
      "text/html": [
       "<div>\n",
       "<style scoped>\n",
       "    .dataframe tbody tr th:only-of-type {\n",
       "        vertical-align: middle;\n",
       "    }\n",
       "\n",
       "    .dataframe tbody tr th {\n",
       "        vertical-align: top;\n",
       "    }\n",
       "\n",
       "    .dataframe thead th {\n",
       "        text-align: right;\n",
       "    }\n",
       "</style>\n",
       "<table border=\"1\" class=\"dataframe\">\n",
       "  <thead>\n",
       "    <tr style=\"text-align: right;\">\n",
       "      <th></th>\n",
       "      <th>text</th>\n",
       "      <th>labels</th>\n",
       "    </tr>\n",
       "  </thead>\n",
       "  <tbody>\n",
       "    <tr>\n",
       "      <th>0</th>\n",
       "      <td>A child and a man, presumably the father, are ...</td>\n",
       "      <td>[1, 0, 0, 0, 0, 0]</td>\n",
       "    </tr>\n",
       "    <tr>\n",
       "      <th>1</th>\n",
       "      <td>Scene opens with a father and daughter riding ...</td>\n",
       "      <td>[1, 1, 0, 0, 0, 0]</td>\n",
       "    </tr>\n",
       "    <tr>\n",
       "      <th>2</th>\n",
       "      <td>A father and daughter rode their bikes along a...</td>\n",
       "      <td>[0, 0, 0, 0, 0, 0]</td>\n",
       "    </tr>\n",
       "    <tr>\n",
       "      <th>3</th>\n",
       "      <td>The clip commences with a cross view of the gi...</td>\n",
       "      <td>[0, 3, 1, 1, 0, 0]</td>\n",
       "    </tr>\n",
       "    <tr>\n",
       "      <th>4</th>\n",
       "      <td>A girl cycles with her father to see him off a...</td>\n",
       "      <td>[0, 1, 1, 0, 0, 0]</td>\n",
       "    </tr>\n",
       "  </tbody>\n",
       "</table>\n",
       "</div>"
      ],
      "text/plain": [
       "                                                text              labels\n",
       "0  A child and a man, presumably the father, are ...  [1, 0, 0, 0, 0, 0]\n",
       "1  Scene opens with a father and daughter riding ...  [1, 1, 0, 0, 0, 0]\n",
       "2  A father and daughter rode their bikes along a...  [0, 0, 0, 0, 0, 0]\n",
       "3  The clip commences with a cross view of the gi...  [0, 3, 1, 1, 0, 0]\n",
       "4  A girl cycles with her father to see him off a...  [0, 1, 1, 0, 0, 0]"
      ]
     },
     "execution_count": 33,
     "metadata": {},
     "output_type": "execute_result"
    }
   ],
   "source": [
    "trainDataMulti.head()"
   ]
  },
  {
   "cell_type": "markdown",
   "id": "4811f23e-b806-470a-a51f-0d91740ffcdd",
   "metadata": {},
   "source": [
    "## TrainingLoader Setup"
   ]
  },
  {
   "cell_type": "code",
   "execution_count": 36,
   "id": "d9f356ec-9c59-4148-be7f-d64303dcc7de",
   "metadata": {},
   "outputs": [],
   "source": [
    "# Params\n",
    "# To do: Look into tokenizer params\n",
    "MAX_LEN = 128\n",
    "TRAIN_BATCH_SIZE = 4\n",
    "VALID_BATCH_SIZE = 4\n",
    "EPOCHS = 1\n",
    "LEARNING_RATE = 1e-05\n",
    "tokenizer = DistilBertTokenizer.from_pretrained('distilbert-base-uncased', truncation=True, do_lower_case=True)"
   ]
  },
  {
   "cell_type": "code",
   "execution_count": 37,
   "id": "192998c5-62db-4ffb-9d2c-ff3d77f5a034",
   "metadata": {},
   "outputs": [],
   "source": [
    "class MultiLabelDataset(Dataset):\n",
    "\n",
    "    def __init__(self, dataframe, tokenizer, max_len):\n",
    "        self.tokenizer = tokenizer\n",
    "        self.data = dataframe\n",
    "        self.text = dataframe.text\n",
    "        self.targets = self.data.labels\n",
    "        self.max_len = max_len\n",
    "\n",
    "    def __len__(self):\n",
    "        return len(self.text)\n",
    "\n",
    "    def __getitem__(self, index):\n",
    "        text = str(self.text[index])\n",
    "        text = \" \".join(text.split())\n",
    "\n",
    "        inputs = self.tokenizer.encode_plus(\n",
    "            text,\n",
    "            None,\n",
    "            add_special_tokens=True,\n",
    "            max_length=self.max_len,\n",
    "            pad_to_max_length=True,\n",
    "            return_token_type_ids=True\n",
    "        )\n",
    "        ids = inputs['input_ids']\n",
    "        mask = inputs['attention_mask']\n",
    "        token_type_ids = inputs[\"token_type_ids\"]\n",
    "\n",
    "\n",
    "        return {\n",
    "            'ids': torch.tensor(ids, dtype=torch.long),\n",
    "            'mask': torch.tensor(mask, dtype=torch.long),\n",
    "            'token_type_ids': torch.tensor(token_type_ids, dtype=torch.long),\n",
    "            'targets': torch.tensor(self.targets[index], dtype=torch.float)\n",
    "        }"
   ]
  },
  {
   "cell_type": "markdown",
   "id": "674ab36c-4dc7-431d-995a-d47f9dc1655f",
   "metadata": {},
   "source": [
    "## Single Attribute Prediction"
   ]
  },
  {
   "cell_type": "code",
   "execution_count": 38,
   "id": "bbac036b-0a23-4734-a6db-634d71ad746d",
   "metadata": {},
   "outputs": [],
   "source": [
    "# Create dataset\n",
    "trainSingle = MultiLabelDataset(trainDataSingle, tokenizer, MAX_LEN)\n",
    "train_params = {'batch_size': TRAIN_BATCH_SIZE,\n",
    "                'shuffle': True,\n",
    "                'num_workers': 0\n",
    "                }\n",
    "\n",
    "training_loader_single = DataLoader(trainSingle, **train_params)"
   ]
  },
  {
   "cell_type": "code",
   "execution_count": 39,
   "id": "bbcea6c2-6791-493e-8d7d-a68caa35c40e",
   "metadata": {},
   "outputs": [],
   "source": [
    "class nn_single(torch.nn.Module):\n",
    "    def __init__(self):\n",
    "        super(nn_single, self).__init__()\n",
    "        self.l1 = DistilBertModel.from_pretrained(\"distilbert-base-uncased\")\n",
    "        self.pre_classifier = torch.nn.Linear(768, 768)\n",
    "        self.dropout = torch.nn.Dropout(0.1)\n",
    "        self.scoreOut = torch.nn.Linear(768, 1)\n",
    "\n",
    "    def forward(self, input_ids, attention_mask, token_type_ids):\n",
    "        output_1 = self.l1(input_ids=input_ids, attention_mask=attention_mask)\n",
    "        hidden_state = output_1[0]\n",
    "        pooler = hidden_state[:, 0]\n",
    "        pooler = self.pre_classifier(pooler)\n",
    "        pooler = torch.nn.Tanh()(pooler)\n",
    "        pooler = self.dropout(pooler)\n",
    "        output = self.scoreOut(pooler)\n",
    "        return output\n",
    "\n",
    "model_single = nn_single()"
   ]
  },
  {
   "cell_type": "code",
   "execution_count": 42,
   "id": "a8ac72e2-71ee-4edf-b781-0f982c33e049",
   "metadata": {},
   "outputs": [
    {
     "data": {
      "text/plain": [
       "nn_single(\n",
       "  (l1): DistilBertModel(\n",
       "    (embeddings): Embeddings(\n",
       "      (word_embeddings): Embedding(30522, 768, padding_idx=0)\n",
       "      (position_embeddings): Embedding(512, 768)\n",
       "      (LayerNorm): LayerNorm((768,), eps=1e-12, elementwise_affine=True)\n",
       "      (dropout): Dropout(p=0.1, inplace=False)\n",
       "    )\n",
       "    (transformer): Transformer(\n",
       "      (layer): ModuleList(\n",
       "        (0-5): 6 x TransformerBlock(\n",
       "          (attention): MultiHeadSelfAttention(\n",
       "            (dropout): Dropout(p=0.1, inplace=False)\n",
       "            (q_lin): Linear(in_features=768, out_features=768, bias=True)\n",
       "            (k_lin): Linear(in_features=768, out_features=768, bias=True)\n",
       "            (v_lin): Linear(in_features=768, out_features=768, bias=True)\n",
       "            (out_lin): Linear(in_features=768, out_features=768, bias=True)\n",
       "          )\n",
       "          (sa_layer_norm): LayerNorm((768,), eps=1e-12, elementwise_affine=True)\n",
       "          (ffn): FFN(\n",
       "            (dropout): Dropout(p=0.1, inplace=False)\n",
       "            (lin1): Linear(in_features=768, out_features=3072, bias=True)\n",
       "            (lin2): Linear(in_features=3072, out_features=768, bias=True)\n",
       "            (activation): GELUActivation()\n",
       "          )\n",
       "          (output_layer_norm): LayerNorm((768,), eps=1e-12, elementwise_affine=True)\n",
       "        )\n",
       "      )\n",
       "    )\n",
       "  )\n",
       "  (pre_classifier): Linear(in_features=768, out_features=768, bias=True)\n",
       "  (dropout): Dropout(p=0.1, inplace=False)\n",
       "  (scoreOut): Linear(in_features=768, out_features=1, bias=True)\n",
       ")"
      ]
     },
     "execution_count": 42,
     "metadata": {},
     "output_type": "execute_result"
    }
   ],
   "source": [
    "model_single"
   ]
  },
  {
   "cell_type": "code",
   "execution_count": 57,
   "id": "210be0e0-bb6b-46cb-b53c-935861d64a5d",
   "metadata": {},
   "outputs": [
    {
     "name": "stdout",
     "output_type": "stream",
     "text": [
      "Epoch 0 :\tLoss: 1.0\n"
     ]
    }
   ],
   "source": [
    "# Training loop\n",
    "# To do: send tensors to device\n",
    "EPOCHS = 1\n",
    "lossVals = []\n",
    "roundVals = True\n",
    "\n",
    "loss_fn = torch.nn.MSELoss()\n",
    "optimizer = torch.optim.Adam(params = model_single.parameters(), lr=1e-4)\n",
    "\n",
    "model_single.train()\n",
    "pass # somehow block cant rerun without this\n",
    "for i in range(EPOCHS):\n",
    "    for idx, data in enumerate(training_loader_single, 0):\n",
    "        #print(data)\n",
    "        ids = data['ids']\n",
    "        mask = data['mask']\n",
    "        token_type_ids = data['token_type_ids']\n",
    "        targets = data['targets']\n",
    "        targets = targets.reshape(-1,1) # Put in same shape as output\n",
    "\n",
    "        outputs = model_single(ids, mask, token_type_ids)\n",
    "        if roundVals == True: outputs = outputs.round()\n",
    "        optimizer.zero_grad()\n",
    "        loss = loss_fn(outputs, targets)\n",
    "\n",
    "        loss.backward()\n",
    "        optimizer.step()\n",
    "\n",
    "        lossVals.append(loss.item())\n",
    "\n",
    "    print(\"Epoch\", i, \":\\tLoss:\", loss.item())\n"
   ]
  },
  {
   "cell_type": "code",
   "execution_count": 58,
   "id": "dc144c09-45de-4355-8b87-2bab1fe5ae03",
   "metadata": {},
   "outputs": [
    {
     "data": {
      "text/plain": [
       "[<matplotlib.lines.Line2D at 0x177de9810>]"
      ]
     },
     "execution_count": 58,
     "metadata": {},
     "output_type": "execute_result"
    },
    {
     "data": {
      "image/png": "[encoded data removed]",
      "text/plain": [
       "<Figure size 640x480 with 1 Axes>"
      ]
     },
     "metadata": {},
     "output_type": "display_data"
    }
   ],
   "source": [
    "plt.plot(lossVals)"
   ]
  },
  {
   "cell_type": "markdown",
   "id": "309e1faa-67a3-4d33-8753-4e7ac42fd65e",
   "metadata": {},
   "source": [
    "## Multiple Attribute Prediction"
   ]
  },
  {
   "cell_type": "code",
   "execution_count": 48,
   "id": "15739c1e-e7a1-40cc-8792-78a1d2401d3e",
   "metadata": {},
   "outputs": [
    {
     "data": {
      "text/html": [
       "<div>\n",
       "<style scoped>\n",
       "    .dataframe tbody tr th:only-of-type {\n",
       "        vertical-align: middle;\n",
       "    }\n",
       "\n",
       "    .dataframe tbody tr th {\n",
       "        vertical-align: top;\n",
       "    }\n",
       "\n",
       "    .dataframe thead th {\n",
       "        text-align: right;\n",
       "    }\n",
       "</style>\n",
       "<table border=\"1\" class=\"dataframe\">\n",
       "  <thead>\n",
       "    <tr style=\"text-align: right;\">\n",
       "      <th></th>\n",
       "      <th>text</th>\n",
       "      <th>labels</th>\n",
       "    </tr>\n",
       "  </thead>\n",
       "  <tbody>\n",
       "    <tr>\n",
       "      <th>0</th>\n",
       "      <td>A child and a man, presumably the father, are ...</td>\n",
       "      <td>[1, 0, 0, 0, 0, 0]</td>\n",
       "    </tr>\n",
       "    <tr>\n",
       "      <th>1</th>\n",
       "      <td>Scene opens with a father and daughter riding ...</td>\n",
       "      <td>[1, 1, 0, 0, 0, 0]</td>\n",
       "    </tr>\n",
       "    <tr>\n",
       "      <th>2</th>\n",
       "      <td>A father and daughter rode their bikes along a...</td>\n",
       "      <td>[0, 0, 0, 0, 0, 0]</td>\n",
       "    </tr>\n",
       "    <tr>\n",
       "      <th>3</th>\n",
       "      <td>The clip commences with a cross view of the gi...</td>\n",
       "      <td>[0, 3, 1, 1, 0, 0]</td>\n",
       "    </tr>\n",
       "    <tr>\n",
       "      <th>4</th>\n",
       "      <td>A girl cycles with her father to see him off a...</td>\n",
       "      <td>[0, 1, 1, 0, 0, 0]</td>\n",
       "    </tr>\n",
       "  </tbody>\n",
       "</table>\n",
       "</div>"
      ],
      "text/plain": [
       "                                                text              labels\n",
       "0  A child and a man, presumably the father, are ...  [1, 0, 0, 0, 0, 0]\n",
       "1  Scene opens with a father and daughter riding ...  [1, 1, 0, 0, 0, 0]\n",
       "2  A father and daughter rode their bikes along a...  [0, 0, 0, 0, 0, 0]\n",
       "3  The clip commences with a cross view of the gi...  [0, 3, 1, 1, 0, 0]\n",
       "4  A girl cycles with her father to see him off a...  [0, 1, 1, 0, 0, 0]"
      ]
     },
     "execution_count": 48,
     "metadata": {},
     "output_type": "execute_result"
    }
   ],
   "source": [
    "# Dataset for Q1\n",
    "trainDataMulti = pd.DataFrame()\n",
    "trainDataMulti[\"text\"] = trainData[\"Q1\"]\n",
    "trainDataMulti[\"labels\"] = trainData.iloc[:,1:8].values.tolist()\n",
    "trainDataMulti = trainDataMulti.reset_index(drop = True)\n",
    "\n",
    "trainDataMulti.head()"
   ]
  },
  {
   "cell_type": "code",
   "execution_count": 49,
   "id": "280c4ea5-acf9-4503-86b5-9b9f64bd340f",
   "metadata": {},
   "outputs": [],
   "source": [
    "# Create dataset\n",
    "train_multi = MultiLabelDataset(trainDataMulti, tokenizer, MAX_LEN)\n",
    "train_params = {'batch_size': TRAIN_BATCH_SIZE,\n",
    "                'shuffle': True,\n",
    "                'num_workers': 0\n",
    "                }\n",
    "\n",
    "training_loader_multi = DataLoader(train_multi, **train_params)"
   ]
  },
  {
   "cell_type": "code",
   "execution_count": 50,
   "id": "9b2f83c2-8f40-4da1-80e3-2620722d6a23",
   "metadata": {},
   "outputs": [],
   "source": [
    "class nn_multi(torch.nn.Module):\n",
    "    def __init__(self):\n",
    "        super(nn_multi, self).__init__()\n",
    "        self.l1 = DistilBertModel.from_pretrained(\"distilbert-base-uncased\")\n",
    "        self.pre_classifier = torch.nn.Linear(768, 768)\n",
    "        self.dropout = torch.nn.Dropout(0.1)\n",
    "        self.scoreOut = torch.nn.Linear(768, 6)\n",
    "\n",
    "    def forward(self, input_ids, attention_mask, token_type_ids):\n",
    "        output_1 = self.l1(input_ids=input_ids, attention_mask=attention_mask)\n",
    "        hidden_state = output_1[0]\n",
    "        pooler = hidden_state[:, 0]\n",
    "        pooler = self.pre_classifier(pooler)\n",
    "        pooler = torch.nn.Tanh()(pooler)\n",
    "        pooler = self.dropout(pooler)\n",
    "        output = self.scoreOut(pooler)\n",
    "        return output\n",
    "\n",
    "model_multi = nn_multi()"
   ]
  },
  {
   "cell_type": "code",
   "execution_count": 51,
   "id": "93016bfa-cdd9-45b8-9e77-7de18ef00645",
   "metadata": {},
   "outputs": [
    {
     "data": {
      "text/plain": [
       "nn_multi(\n",
       "  (l1): DistilBertModel(\n",
       "    (embeddings): Embeddings(\n",
       "      (word_embeddings): Embedding(30522, 768, padding_idx=0)\n",
       "      (position_embeddings): Embedding(512, 768)\n",
       "      (LayerNorm): LayerNorm((768,), eps=1e-12, elementwise_affine=True)\n",
       "      (dropout): Dropout(p=0.1, inplace=False)\n",
       "    )\n",
       "    (transformer): Transformer(\n",
       "      (layer): ModuleList(\n",
       "        (0-5): 6 x TransformerBlock(\n",
       "          (attention): MultiHeadSelfAttention(\n",
       "            (dropout): Dropout(p=0.1, inplace=False)\n",
       "            (q_lin): Linear(in_features=768, out_features=768, bias=True)\n",
       "            (k_lin): Linear(in_features=768, out_features=768, bias=True)\n",
       "            (v_lin): Linear(in_features=768, out_features=768, bias=True)\n",
       "            (out_lin): Linear(in_features=768, out_features=768, bias=True)\n",
       "          )\n",
       "          (sa_layer_norm): LayerNorm((768,), eps=1e-12, elementwise_affine=True)\n",
       "          (ffn): FFN(\n",
       "            (dropout): Dropout(p=0.1, inplace=False)\n",
       "            (lin1): Linear(in_features=768, out_features=3072, bias=True)\n",
       "            (lin2): Linear(in_features=3072, out_features=768, bias=True)\n",
       "            (activation): GELUActivation()\n",
       "          )\n",
       "          (output_layer_norm): LayerNorm((768,), eps=1e-12, elementwise_affine=True)\n",
       "        )\n",
       "      )\n",
       "    )\n",
       "  )\n",
       "  (pre_classifier): Linear(in_features=768, out_features=768, bias=True)\n",
       "  (dropout): Dropout(p=0.1, inplace=False)\n",
       "  (scoreOut): Linear(in_features=768, out_features=6, bias=True)\n",
       ")"
      ]
     },
     "execution_count": 51,
     "metadata": {},
     "output_type": "execute_result"
    }
   ],
   "source": [
    "model_multi"
   ]
  },
  {
   "cell_type": "code",
   "execution_count": 64,
   "id": "8dd49655-2302-466c-8dd3-ce6e61ae1895",
   "metadata": {},
   "outputs": [
    {
     "name": "stdout",
     "output_type": "stream",
     "text": [
      "Epoch 0 :\tLoss: 1.1111111640930176\n"
     ]
    }
   ],
   "source": [
    "# Training loop\n",
    "# To do: send tensors to device\n",
    "EPOCHS = 1\n",
    "lossVals = []\n",
    "roundVals = True\n",
    "\n",
    "loss_fn = torch.nn.MSELoss() # Use MSE since we're doing regression\n",
    "optimizer = torch.optim.Adam(params = model_multi.parameters(), lr=1e-4)\n",
    "\n",
    "model_multi.train()\n",
    "pass # somehow block cant rerun without this\n",
    "for i in range(EPOCHS):\n",
    "    for idx, data in enumerate(training_loader_multi, 0):\n",
    "        #print(data)\n",
    "        ids = data['ids']\n",
    "        mask = data['mask']\n",
    "        token_type_ids = data['token_type_ids']\n",
    "        targets = data['targets']\n",
    "\n",
    "        outputs = model_multi(ids, mask, token_type_ids)\n",
    "        if roundVals == True: outputs = outputs.round()\n",
    "        optimizer.zero_grad()\n",
    "        loss = loss_fn(outputs, targets)\n",
    "\n",
    "        loss.backward()\n",
    "        optimizer.step()\n",
    "\n",
    "        lossVals.append(loss.item())\n",
    "        \n",
    "    print(\"Epoch\", i, \":\\tLoss:\", loss.item())\n"
   ]
  },
  {
   "cell_type": "code",
   "execution_count": 65,
   "id": "d583bfa9-369c-49f7-bfa9-6eafbf604fc1",
   "metadata": {},
   "outputs": [
    {
     "data": {
      "text/plain": [
       "[<matplotlib.lines.Line2D at 0x3279fd290>]"
      ]
     },
     "execution_count": 65,
     "metadata": {},
     "output_type": "execute_result"
    },
    {
     "data": {
      "image/png": "[encoded data removed]",
      "text/plain": [
       "<Figure size 640x480 with 1 Axes>"
      ]
     },
     "metadata": {},
     "output_type": "display_data"
    }
   ],
   "source": [
    "plt.plot(lossVals)"
   ]
  },
  {
   "cell_type": "code",
   "execution_count": null,
   "id": "bf72456b-4579-4a8e-a52d-aba60b165131",
   "metadata": {},
   "outputs": [],
   "source": []
  }
 ],
 "metadata": {
  "kernelspec": {
   "display_name": "Python 3 (ipykernel)",
   "language": "python",
   "name": "python3"
  },
  "language_info": {
   "codemirror_mode": {
    "name": "ipython",
    "version": 3
   },
   "file_extension": ".py",
   "mimetype": "text/x-python",
   "name": "python",
   "nbconvert_exporter": "python",
   "pygments_lexer": "ipython3",
   "version": "3.11.9"
  }
 },
 "nbformat": 4,
 "nbformat_minor": 5
}
