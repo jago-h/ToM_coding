{
 "cells": [
  {
   "cell_type": "markdown",
   "id": "8b39bbce-4493-4f83-a0f9-91b7a812bef7",
   "metadata": {},
   "source": [
    "## Data"
   ]
  },
  {
   "cell_type": "code",
   "execution_count": 1,
   "id": "9a86a660-dd9e-47da-85a5-a896fab03054",
   "metadata": {},
   "outputs": [],
   "source": [
    "import numpy as np\n",
    "import pandas as pd"
   ]
  },
  {
   "cell_type": "code",
   "execution_count": 27,
   "id": "aaba2ae8-d680-4475-96b0-7f8520d39a2c",
   "metadata": {},
   "outputs": [],
   "source": [
    "df = pd.read_excel(\"WMC_DATA_MSA_DF.xlsx\")\n",
    "df.drop(columns = [\"Q1.4\", \"Q2.4\", \"Q1.8\", \"Q2.8\", \"V1\",\n",
    "                   \"Q1_letter_count\", \"Q2_letter_count\",\n",
    "                   \"Q1_word_count\", \"Q2_word_count\"], inplace = True)\n",
    "df.drop([0], inplace = True)\n",
    "df[\"Q1_sum\"] = df[\"Q1.1\"] + df[\"Q1.2\"] + df[\"Q1.3\"] + df[\"Q1.5\"] + df[\"Q1.6\"] + df[\"Q1.7\"]\n",
    "df[\"Q2_sum\"] = df[\"Q2.1\"] + df[\"Q2.2\"] + df[\"Q2.3\"] + df[\"Q2.5\"] + df[\"Q2.6\"] + df[\"Q2.7\"]\n",
    "\n",
    "df_sum = df.copy()\n",
    "df_sum.drop(columns = [\"Q1.1\", \"Q1.2\", \"Q1.3\", \"Q1.5\", \"Q1.6\", \"Q1.7\",\n",
    "                    \"Q2.1\", \"Q2.2\", \"Q2.3\", \"Q2.5\", \"Q2.6\", \"Q2.7\"], inplace = True)"
   ]
  },
  {
   "cell_type": "code",
   "execution_count": 28,
   "id": "4026049a-1948-40eb-8c1a-3af840a3786e",
   "metadata": {},
   "outputs": [
    {
     "data": {
      "text/html": [
       "<div>\n",
       "<style scoped>\n",
       "    .dataframe tbody tr th:only-of-type {\n",
       "        vertical-align: middle;\n",
       "    }\n",
       "\n",
       "    .dataframe tbody tr th {\n",
       "        vertical-align: top;\n",
       "    }\n",
       "\n",
       "    .dataframe thead th {\n",
       "        text-align: right;\n",
       "    }\n",
       "</style>\n",
       "<table border=\"1\" class=\"dataframe\">\n",
       "  <thead>\n",
       "    <tr style=\"text-align: right;\">\n",
       "      <th></th>\n",
       "      <th>DataSet</th>\n",
       "      <th>Q1</th>\n",
       "      <th>Q2</th>\n",
       "      <th>Q1.1</th>\n",
       "      <th>Q1.2</th>\n",
       "      <th>Q1.3</th>\n",
       "      <th>Q1.5</th>\n",
       "      <th>Q1.6</th>\n",
       "      <th>Q1.7</th>\n",
       "      <th>Q2.1</th>\n",
       "      <th>Q2.2</th>\n",
       "      <th>Q2.3</th>\n",
       "      <th>Q2.5</th>\n",
       "      <th>Q2.6</th>\n",
       "      <th>Q2.7</th>\n",
       "      <th>Q1_sum</th>\n",
       "      <th>Q2_sum</th>\n",
       "    </tr>\n",
       "  </thead>\n",
       "  <tbody>\n",
       "    <tr>\n",
       "      <th>1</th>\n",
       "      <td>1</td>\n",
       "      <td>A child and a man, presumably the father, are ...</td>\n",
       "      <td>We are cycling down in the countryside my fath...</td>\n",
       "      <td>1</td>\n",
       "      <td>0</td>\n",
       "      <td>0</td>\n",
       "      <td>0</td>\n",
       "      <td>0</td>\n",
       "      <td>0</td>\n",
       "      <td>7</td>\n",
       "      <td>3</td>\n",
       "      <td>0</td>\n",
       "      <td>0</td>\n",
       "      <td>0</td>\n",
       "      <td>0</td>\n",
       "      <td>1</td>\n",
       "      <td>10</td>\n",
       "    </tr>\n",
       "    <tr>\n",
       "      <th>2</th>\n",
       "      <td>1</td>\n",
       "      <td>Scene opens with a father and daughter riding ...</td>\n",
       "      <td>I imagine she'd be happy to be spending time w...</td>\n",
       "      <td>1</td>\n",
       "      <td>1</td>\n",
       "      <td>0</td>\n",
       "      <td>0</td>\n",
       "      <td>0</td>\n",
       "      <td>0</td>\n",
       "      <td>5</td>\n",
       "      <td>4</td>\n",
       "      <td>0</td>\n",
       "      <td>1</td>\n",
       "      <td>1</td>\n",
       "      <td>0</td>\n",
       "      <td>2</td>\n",
       "      <td>11</td>\n",
       "    </tr>\n",
       "    <tr>\n",
       "      <th>3</th>\n",
       "      <td>1</td>\n",
       "      <td>A father and daughter rode their bikes along a...</td>\n",
       "      <td></td>\n",
       "      <td>0</td>\n",
       "      <td>0</td>\n",
       "      <td>0</td>\n",
       "      <td>0</td>\n",
       "      <td>0</td>\n",
       "      <td>0</td>\n",
       "      <td>-999</td>\n",
       "      <td>-999</td>\n",
       "      <td>-999</td>\n",
       "      <td>-999</td>\n",
       "      <td>-999</td>\n",
       "      <td>-999</td>\n",
       "      <td>0</td>\n",
       "      <td>-5994</td>\n",
       "    </tr>\n",
       "    <tr>\n",
       "      <th>4</th>\n",
       "      <td>1</td>\n",
       "      <td>NaN</td>\n",
       "      <td></td>\n",
       "      <td>-999</td>\n",
       "      <td>-999</td>\n",
       "      <td>-999</td>\n",
       "      <td>-999</td>\n",
       "      <td>-999</td>\n",
       "      <td>-999</td>\n",
       "      <td>-999</td>\n",
       "      <td>-999</td>\n",
       "      <td>-999</td>\n",
       "      <td>-999</td>\n",
       "      <td>-999</td>\n",
       "      <td>-999</td>\n",
       "      <td>-5994</td>\n",
       "      <td>-5994</td>\n",
       "    </tr>\n",
       "    <tr>\n",
       "      <th>5</th>\n",
       "      <td>1</td>\n",
       "      <td>The clip commences with a cross view of the gi...</td>\n",
       "      <td>I would imagine she experiences glee at first,...</td>\n",
       "      <td>0</td>\n",
       "      <td>3</td>\n",
       "      <td>1</td>\n",
       "      <td>1</td>\n",
       "      <td>0</td>\n",
       "      <td>0</td>\n",
       "      <td>20</td>\n",
       "      <td>0</td>\n",
       "      <td>1</td>\n",
       "      <td>1</td>\n",
       "      <td>0</td>\n",
       "      <td>0</td>\n",
       "      <td>5</td>\n",
       "      <td>22</td>\n",
       "    </tr>\n",
       "  </tbody>\n",
       "</table>\n",
       "</div>"
      ],
      "text/plain": [
       "  DataSet                                                  Q1  \\\n",
       "1        1  A child and a man, presumably the father, are ...   \n",
       "2        1  Scene opens with a father and daughter riding ...   \n",
       "3        1  A father and daughter rode their bikes along a...   \n",
       "4        1                                                NaN   \n",
       "5        1  The clip commences with a cross view of the gi...   \n",
       "\n",
       "                                                  Q2  Q1.1  Q1.2  Q1.3  Q1.5  \\\n",
       "1  We are cycling down in the countryside my fath...     1     0     0     0   \n",
       "2  I imagine she'd be happy to be spending time w...     1     1     0     0   \n",
       "3                                                        0     0     0     0   \n",
       "4                                                     -999  -999  -999  -999   \n",
       "5  I would imagine she experiences glee at first,...     0     3     1     1   \n",
       "\n",
       "   Q1.6  Q1.7  Q2.1  Q2.2  Q2.3  Q2.5  Q2.6  Q2.7 Q1_sum Q2_sum  \n",
       "1     0     0     7     3     0     0     0     0      1     10  \n",
       "2     0     0     5     4     0     1     1     0      2     11  \n",
       "3     0     0  -999  -999  -999  -999  -999  -999      0  -5994  \n",
       "4  -999  -999  -999  -999  -999  -999  -999  -999  -5994  -5994  \n",
       "5     0     0    20     0     1     1     0     0      5     22  "
      ]
     },
     "execution_count": 28,
     "metadata": {},
     "output_type": "execute_result"
    }
   ],
   "source": [
    "df.head()"
   ]
  },
  {
   "cell_type": "code",
   "execution_count": 29,
   "id": "abd7d8e7-53aa-4fb0-82b9-3c8196a17d3c",
   "metadata": {},
   "outputs": [
    {
     "data": {
      "text/html": [
       "<div>\n",
       "<style scoped>\n",
       "    .dataframe tbody tr th:only-of-type {\n",
       "        vertical-align: middle;\n",
       "    }\n",
       "\n",
       "    .dataframe tbody tr th {\n",
       "        vertical-align: top;\n",
       "    }\n",
       "\n",
       "    .dataframe thead th {\n",
       "        text-align: right;\n",
       "    }\n",
       "</style>\n",
       "<table border=\"1\" class=\"dataframe\">\n",
       "  <thead>\n",
       "    <tr style=\"text-align: right;\">\n",
       "      <th></th>\n",
       "      <th>DataSet</th>\n",
       "      <th>Q1</th>\n",
       "      <th>Q2</th>\n",
       "      <th>Q1_sum</th>\n",
       "      <th>Q2_sum</th>\n",
       "    </tr>\n",
       "  </thead>\n",
       "  <tbody>\n",
       "    <tr>\n",
       "      <th>1</th>\n",
       "      <td>1</td>\n",
       "      <td>A child and a man, presumably the father, are ...</td>\n",
       "      <td>We are cycling down in the countryside my fath...</td>\n",
       "      <td>1</td>\n",
       "      <td>10</td>\n",
       "    </tr>\n",
       "    <tr>\n",
       "      <th>2</th>\n",
       "      <td>1</td>\n",
       "      <td>Scene opens with a father and daughter riding ...</td>\n",
       "      <td>I imagine she'd be happy to be spending time w...</td>\n",
       "      <td>2</td>\n",
       "      <td>11</td>\n",
       "    </tr>\n",
       "    <tr>\n",
       "      <th>3</th>\n",
       "      <td>1</td>\n",
       "      <td>A father and daughter rode their bikes along a...</td>\n",
       "      <td></td>\n",
       "      <td>0</td>\n",
       "      <td>-5994</td>\n",
       "    </tr>\n",
       "    <tr>\n",
       "      <th>4</th>\n",
       "      <td>1</td>\n",
       "      <td>NaN</td>\n",
       "      <td></td>\n",
       "      <td>-5994</td>\n",
       "      <td>-5994</td>\n",
       "    </tr>\n",
       "    <tr>\n",
       "      <th>5</th>\n",
       "      <td>1</td>\n",
       "      <td>The clip commences with a cross view of the gi...</td>\n",
       "      <td>I would imagine she experiences glee at first,...</td>\n",
       "      <td>5</td>\n",
       "      <td>22</td>\n",
       "    </tr>\n",
       "  </tbody>\n",
       "</table>\n",
       "</div>"
      ],
      "text/plain": [
       "  DataSet                                                  Q1  \\\n",
       "1        1  A child and a man, presumably the father, are ...   \n",
       "2        1  Scene opens with a father and daughter riding ...   \n",
       "3        1  A father and daughter rode their bikes along a...   \n",
       "4        1                                                NaN   \n",
       "5        1  The clip commences with a cross view of the gi...   \n",
       "\n",
       "                                                  Q2 Q1_sum Q2_sum  \n",
       "1  We are cycling down in the countryside my fath...      1     10  \n",
       "2  I imagine she'd be happy to be spending time w...      2     11  \n",
       "3                                                         0  -5994  \n",
       "4                                                     -5994  -5994  \n",
       "5  I would imagine she experiences glee at first,...      5     22  "
      ]
     },
     "execution_count": 29,
     "metadata": {},
     "output_type": "execute_result"
    }
   ],
   "source": [
    "df_sum.head()"
   ]
  },
  {
   "cell_type": "markdown",
   "id": "674ab36c-4dc7-431d-995a-d47f9dc1655f",
   "metadata": {},
   "source": [
    "## Model"
   ]
  },
  {
   "cell_type": "code",
   "execution_count": 30,
   "id": "d5ff6fa5-69bb-46de-acf7-d6bfa5029773",
   "metadata": {},
   "outputs": [
    {
     "name": "stderr",
     "output_type": "stream",
     "text": [
      "/Users/elipartodikromo/Anaconda/anaconda3/envs/mlai/lib/python3.11/site-packages/torchvision/io/image.py:13: UserWarning: Failed to load image Python extension: 'dlopen(/Users/elipartodikromo/Anaconda/anaconda3/envs/mlai/lib/python3.11/site-packages/torchvision/image.so, 0x0006): Symbol not found: __ZN3c1017RegisterOperatorsD1Ev\n",
      "  Referenced from: <CFED5F8E-EC3F-36FD-AAA3-2C6C7F8D3DD9> /Users/elipartodikromo/Anaconda/anaconda3/envs/mlai/lib/python3.11/site-packages/torchvision/image.so\n",
      "  Expected in:     <85021449-F141-385B-8151-410662B4D328> /Users/elipartodikromo/Anaconda/anaconda3/envs/mlai/lib/python3.11/site-packages/torch/lib/libtorch_cpu.dylib'If you don't plan on using image functionality from `torchvision.io`, you can ignore this warning. Otherwise, there might be something wrong with your environment. Did you have `libjpeg` or `libpng` installed before building `torchvision` from source?\n",
      "  warn(\n",
      "Hardware accelerator e.g. GPU is available in the environment, but no `device` argument is passed to the `Pipeline` object. Model will be on CPU.\n"
     ]
    }
   ],
   "source": [
    "from transformers import pipeline, AutoTokenizer, AutoModelForSequenceClassification\n",
    "\n",
    "tokenizer = AutoTokenizer.from_pretrained('distilbert-base-uncased-finetuned-sst-2-english')\n",
    "model = AutoModelForSequenceClassification.from_pretrained('distilbert-base-uncased-finetuned-sst-2-english')\n",
    "classifier = pipeline(\"sentiment-analysis\", model = model, tokenizer = tokenizer)"
   ]
  },
  {
   "cell_type": "code",
   "execution_count": 31,
   "id": "0357e446-0b1b-4809-bf95-333bf20c10d4",
   "metadata": {},
   "outputs": [],
   "source": [
    "sent = [\"A child and a man, presumably the father, are cycling in the countryside. They are travelling up hills and eventually come to a halt. They leaves their bikes propped up against a tree. They are now on a hill overlooking the sea. The father retrieves a boat and it soon becomes apparent that the girl wont be allowed to join him on it. He sails off into the sunset as the child looks  on. Eventually he vanishes and the girl is left staring at the empty ocean. She cycles off and returns twice but although his bike is still there, the man is not. The child wears a worried expression and the film ends with a shot of the sun shining.\",\n",
    "       \"Scene opens with a father and daughter riding bikes together on a path through a field. They continue until they reach a row of trees, overlooking a body of water.  They dismount and leave the bikes by the side of the road. The father makes his way down a hill, to the water's edge, to a small rowing boat. Before getting in he climbs back up the hill and embraces his daughter a final time. He returns to the boat and rows away from land. As he travels further away the daughter runs up and down the path/cliff that overlooks the water, restlessly, as if unsure what to do next. She cycles off eventually and returns at a later date. Her father's bike is still propped up against one of the trees. She looks out across the water but it's still, lifeless. Again, she cycles off alone. \",\n",
    "       \"A father and daughter rode their bikes along a straight path without much scenery. They arrived at a tree and parked their bikes. The father descended down a steep slope to a body of water with a boat floating by the shore. The girl stayed at the top of the hill and watched his movements. The man climbed back up the hill and picked her up, hugging in a way that appeared to be a goodbye. He put her down and went back to the boat, rowing away into the sunset. The girl watched him row, moving back and forth along the plateau, until eventually she rode away on her bike, leaving her father's bike. The sun appeared to set, as the colours of the environment changed to darker and more red. She climbed a hill on her bike, and at some point returned to the trees where her father had left, but found that he had not yet returned. She rode away again. \"]\n"
   ]
  },
  {
   "cell_type": "code",
   "execution_count": 32,
   "id": "7be16781-5565-43a7-9d68-44e53c1fed63",
   "metadata": {},
   "outputs": [
    {
     "data": {
      "text/plain": [
       "[{'label': 'NEGATIVE', 'score': 0.8227729797363281},\n",
       " {'label': 'NEGATIVE', 'score': 0.9940113425254822},\n",
       " {'label': 'NEGATIVE', 'score': 0.9903246164321899}]"
      ]
     },
     "execution_count": 32,
     "metadata": {},
     "output_type": "execute_result"
    }
   ],
   "source": [
    "classifier(sent)"
   ]
  },
  {
   "cell_type": "code",
   "execution_count": 33,
   "id": "8ff03f5f-3ac1-4f8c-8072-1ac9cf0879a2",
   "metadata": {},
   "outputs": [
    {
     "data": {
      "text/plain": [
       "transformers.pipelines.text_classification.TextClassificationPipeline"
      ]
     },
     "execution_count": 33,
     "metadata": {},
     "output_type": "execute_result"
    }
   ],
   "source": [
    "type(classifier)"
   ]
  },
  {
   "cell_type": "code",
   "execution_count": 34,
   "id": "b4b3aea1-3319-48f9-a24d-758a748dd2f6",
   "metadata": {},
   "outputs": [],
   "source": [
    "from transformers import TextClassificationPipeline\n",
    "\n",
    "class preOut(TextClassificationPipeline):\n",
    "    def postprocess(self, model_outputs):\n",
    "        return model_outputs[\"logits\"]"
   ]
  },
  {
   "cell_type": "code",
   "execution_count": 35,
   "id": "086a5531-7e54-43af-b1a2-1755ef33e0b0",
   "metadata": {},
   "outputs": [
    {
     "name": "stderr",
     "output_type": "stream",
     "text": [
      "Hardware accelerator e.g. GPU is available in the environment, but no `device` argument is passed to the `Pipeline` object. Model will be on CPU.\n"
     ]
    }
   ],
   "source": [
    "pipe = preOut(model = model, tokenizer = tokenizer)"
   ]
  },
  {
   "cell_type": "code",
   "execution_count": 36,
   "id": "1bcbf4fb-e6d5-4b9e-82c0-b2f0e7c6ace5",
   "metadata": {},
   "outputs": [
    {
     "data": {
      "text/plain": [
       "tensor([ 0.8993, -0.6360])"
      ]
     },
     "execution_count": 36,
     "metadata": {},
     "output_type": "execute_result"
    }
   ],
   "source": [
    "pipe(sent)[0][0] # Nodes from final layer (before softmax)"
   ]
  },
  {
   "cell_type": "code",
   "execution_count": 37,
   "id": "4568f42b-ab9b-40aa-9a27-75ec0a2c591d",
   "metadata": {},
   "outputs": [],
   "source": [
    "# Importing stock ml libraries\n",
    "import warnings\n",
    "warnings.simplefilter('ignore')\n",
    "import numpy as np\n",
    "import pandas as pd\n",
    "from tqdm import tqdm\n",
    "from sklearn import metrics\n",
    "import transformers\n",
    "import torch\n",
    "from torch.utils.data import Dataset, DataLoader, RandomSampler, SequentialSampler\n",
    "from transformers import DistilBertTokenizer, DistilBertModel\n",
    "import logging\n",
    "logging.basicConfig(level=logging.ERROR)"
   ]
  },
  {
   "cell_type": "code",
   "execution_count": 42,
   "id": "bbcea6c2-6791-493e-8d7d-a68caa35c40e",
   "metadata": {},
   "outputs": [],
   "source": [
    "class nn_score(torch.nn.Module):\n",
    "    def __init__(self):\n",
    "        super(nn_score, self).__init__()\n",
    "        self.l1 = DistilBertModel.from_pretrained(\"distilbert-base-uncased\")\n",
    "        self.pre_classifier = torch.nn.Linear(768, 768)\n",
    "        self.dropout = torch.nn.Dropout(0.1)\n",
    "        self.scoreOut = torch.nn.Linear(768, 1)\n",
    "\n",
    "    def forward(self, input_ids, attention_mask, token_type_ids):\n",
    "        output_1 = self.l1(input_ids=input_ids, attention_mask=attention_mask)\n",
    "        hidden_state = output_1[0]\n",
    "        pooler = hidden_state[:, 0]\n",
    "        pooler = self.pre_classifier(pooler)\n",
    "        pooler = torch.nn.Tanh()(pooler)\n",
    "        pooler = self.dropout(pooler)\n",
    "        output = self.scoreOut(pooler)\n",
    "        return output\n",
    "\n",
    "model = nn_score()"
   ]
  },
  {
   "cell_type": "code",
   "execution_count": 43,
   "id": "01994b73-fb50-47a6-8479-3c62089c88a1",
   "metadata": {},
   "outputs": [
    {
     "data": {
      "text/plain": [
       "nn_score(\n",
       "  (l1): DistilBertModel(\n",
       "    (embeddings): Embeddings(\n",
       "      (word_embeddings): Embedding(30522, 768, padding_idx=0)\n",
       "      (position_embeddings): Embedding(512, 768)\n",
       "      (LayerNorm): LayerNorm((768,), eps=1e-12, elementwise_affine=True)\n",
       "      (dropout): Dropout(p=0.1, inplace=False)\n",
       "    )\n",
       "    (transformer): Transformer(\n",
       "      (layer): ModuleList(\n",
       "        (0-5): 6 x TransformerBlock(\n",
       "          (attention): MultiHeadSelfAttention(\n",
       "            (dropout): Dropout(p=0.1, inplace=False)\n",
       "            (q_lin): Linear(in_features=768, out_features=768, bias=True)\n",
       "            (k_lin): Linear(in_features=768, out_features=768, bias=True)\n",
       "            (v_lin): Linear(in_features=768, out_features=768, bias=True)\n",
       "            (out_lin): Linear(in_features=768, out_features=768, bias=True)\n",
       "          )\n",
       "          (sa_layer_norm): LayerNorm((768,), eps=1e-12, elementwise_affine=True)\n",
       "          (ffn): FFN(\n",
       "            (dropout): Dropout(p=0.1, inplace=False)\n",
       "            (lin1): Linear(in_features=768, out_features=3072, bias=True)\n",
       "            (lin2): Linear(in_features=3072, out_features=768, bias=True)\n",
       "            (activation): GELUActivation()\n",
       "          )\n",
       "          (output_layer_norm): LayerNorm((768,), eps=1e-12, elementwise_affine=True)\n",
       "        )\n",
       "      )\n",
       "    )\n",
       "  )\n",
       "  (pre_classifier): Linear(in_features=768, out_features=768, bias=True)\n",
       "  (dropout): Dropout(p=0.1, inplace=False)\n",
       "  (scoreOut): Linear(in_features=768, out_features=1, bias=True)\n",
       ")"
      ]
     },
     "execution_count": 43,
     "metadata": {},
     "output_type": "execute_result"
    }
   ],
   "source": [
    "model"
   ]
  },
  {
   "cell_type": "code",
   "execution_count": 45,
   "id": "76f49582-65a0-44fd-97d7-fcbdec8e712f",
   "metadata": {},
   "outputs": [],
   "source": [
    "def loss_fn(outputs, target):\n",
    "    return torch.nn.MSELoss()\n",
    "\n",
    "optimizer = torch.optim.Adam(params = model.parameters(), lr=1e-4)"
   ]
  },
  {
   "cell_type": "code",
   "execution_count": 46,
   "id": "210be0e0-bb6b-46cb-b53c-935861d64a5d",
   "metadata": {},
   "outputs": [],
   "source": [
    "# Training loop\n",
    "\n",
    "model.train()\n",
    "\n",
    "its = 10000\n",
    "\n",
    "for i in range(its):\n",
    "    break"
   ]
  },
  {
   "cell_type": "code",
   "execution_count": null,
   "id": "9d6bc692-db0b-403d-8835-93ded8e47dcb",
   "metadata": {},
   "outputs": [],
   "source": []
  }
 ],
 "metadata": {
  "kernelspec": {
   "display_name": "Python 3 (ipykernel)",
   "language": "python",
   "name": "python3"
  },
  "language_info": {
   "codemirror_mode": {
    "name": "ipython",
    "version": 3
   },
   "file_extension": ".py",
   "mimetype": "text/x-python",
   "name": "python",
   "nbconvert_exporter": "python",
   "pygments_lexer": "ipython3",
   "version": "3.11.9"
  }
 },
 "nbformat": 4,
 "nbformat_minor": 5
}
